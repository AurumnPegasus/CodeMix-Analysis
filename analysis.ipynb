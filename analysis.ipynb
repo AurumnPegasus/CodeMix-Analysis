{
 "metadata": {
  "language_info": {
   "codemirror_mode": {
    "name": "ipython",
    "version": 3
   },
   "file_extension": ".py",
   "mimetype": "text/x-python",
   "name": "python",
   "nbconvert_exporter": "python",
   "pygments_lexer": "ipython3",
   "version": "3.8.5"
  },
  "orig_nbformat": 2,
  "kernelspec": {
   "name": "python3",
   "display_name": "Python 3",
   "language": "python"
  }
 },
 "nbformat": 4,
 "nbformat_minor": 2,
 "cells": [
  {
   "source": [
    "## A brief overview of data-structures\n",
    "\n",
    "### For all purposes\n",
    "```python\n",
    "data = [sentences]\n",
    "sentence = [elements]\n",
    "element = {\n",
    "    'word': bruh,\n",
    "    'lang': en,\n",
    "    'pos': X\n",
    "}\n",
    "```\n",
    "\n",
    "- words: the \"words\" of the data\n",
    "- lang: e, h, b, t, n\n",
    "    - e: english\n",
    "    - h: hindi\n",
    "    - b: bengali\n",
    "    - t: tamil\n",
    "    - n: naaahh (rest)\n",
    "- pos: the part of speech\n",
    "\n"
   ],
   "cell_type": "markdown",
   "metadata": {}
  },
  {
   "cell_type": "code",
   "execution_count": 1,
   "metadata": {},
   "outputs": [],
   "source": [
    "import regex\n",
    "import numpy as np\n",
    "import matplotlib.pyplot as plt\n",
    "import json"
   ]
  },
  {
   "cell_type": "code",
   "execution_count": 7,
   "metadata": {},
   "outputs": [],
   "source": [
    "with open('hi_en_dataset.json') as f:\n",
    "    json_data = json.load(f)"
   ]
  },
  {
   "cell_type": "code",
   "execution_count": 8,
   "metadata": {
    "tags": []
   },
   "outputs": [],
   "source": [
    "data = []\n",
    "for key, value in json_data.items():\n",
    "    data.append(value['sentence'])"
   ]
  },
  {
   "cell_type": "code",
   "execution_count": 18,
   "metadata": {},
   "outputs": [],
   "source": [
    "def grammify(data, n, item):\n",
    "    \"\"\"\n",
    "    Builds the gram_data dictionary\n",
    "    inputs:\n",
    "        data: a list of sentences\n",
    "        sentences: a list of dict containing all the information\n",
    "        n: the n in n-gram\n",
    "        item: the dictionary key\n",
    "    outputs:\n",
    "        gram_data:\n",
    "            a list of tuples of (value, key) pairs.\n",
    "            value as the frequency of the gram,\n",
    "            given by the key\n",
    "    \"\"\"\n",
    "    d = {}\n",
    "    for sentence in data:\n",
    "        x = len(sentence)\n",
    "        for i in range(x-n+1):\n",
    "            window = sentence[i:i+n]\n",
    "            key = \"\"\n",
    "            for element in window:\n",
    "                key += element[item] + \" \"\n",
    "\n",
    "            if key in d:\n",
    "                d[key] += 1\n",
    "            else:\n",
    "                d[key] = 1\n",
    "\n",
    "    d = [(v, k) for k, v in d.items()]\n",
    "    return sorted(d, reverse=True)"
   ]
  },
  {
   "cell_type": "code",
   "execution_count": 19,
   "metadata": {},
   "outputs": [],
   "source": [
    "def plot_gram_data(gram_data, language, gram, item):\n",
    "    \"\"\"\n",
    "    Plots the gram data.\n",
    "    inputs:\n",
    "        gram_data:\n",
    "            a list of tuples of (value, key) pairs.\n",
    "            value as the frequency of the gram,\n",
    "            given by the key\n",
    "        \n",
    "        language:\n",
    "            the name of the data in concern\n",
    "        gram:\n",
    "            the n of the data in concern\n",
    "        data:\n",
    "            the item in concern\n",
    "    \"\"\"\n",
    "    n = len(gram_data)\n",
    "    labels = [item[1] for item in gram_data]\n",
    "    heights = [item[0] for item in gram_data]\n",
    "    plt.figure(figsize=(20,10))\n",
    "    plt.bar(x=np.arange(n), height=heights, tick_label=labels)\n",
    "    plt.title(f\"{language}: for n={gram} and parameter={item}\")\n",
    "    plt.xticks(rotation=90)\n",
    "    plt.show()"
   ]
  },
  {
   "cell_type": "code",
   "execution_count": 58,
   "metadata": {},
   "outputs": [],
   "source": [
    "def find_gram(data, query, item, is_regex):\n",
    "    \"\"\"\n",
    "    Finds the requested query in the data. \n",
    "    Could be plain search or regex search.\n",
    "    Helpful for getting samples for analysis.\n",
    "    \n",
    "    inputs:\n",
    "        data:\n",
    "            the data where the query is searched\n",
    "        query:\n",
    "            the request on what to search. space separated for bigger n\n",
    "        item:\n",
    "            the item to be searched for. could be 'token', 'pos', 'lang'    \n",
    "        is_regex: \n",
    "            if the query is regex or not\n",
    "    outputs:\n",
    "        returns a list of all the sentences containing the query\n",
    "    \"\"\"\n",
    "    # stores the final results of the data\n",
    "    query_results = []\n",
    "\n",
    "    focused_sentences = []\n",
    "    for sentence in data:\n",
    "        extracted_string = \"\"\n",
    "        for element in sentence:\n",
    "            extracted_string += element[item] + \" \"\n",
    "        focused_sentences.append((sentence, extracted_string[:-1]))\n",
    "    print(\"done reformatting the data\")\n",
    "\n",
    "    if is_regex:\n",
    "        pattern = regex.compile(query)\n",
    "        query_results = [\n",
    "            sentence for sentence, extracted_string in focused_sentences \n",
    "            if len(pattern.findall(extracted_string))\n",
    "        ]\n",
    "    else:\n",
    "        query_results = [\n",
    "            sentence for sentence, extracted_string in focused_sentences\n",
    "            if query in extracted_string\n",
    "        ]\n",
    "    print(f\"Found {len(query_results)} matches.\")\n",
    "    return query_results"
   ]
  },
  {
   "cell_type": "code",
   "execution_count": 77,
   "metadata": {},
   "outputs": [],
   "source": [
    "def get_extracted_data(data, item):\n",
    "    extracted_data = []\n",
    "    for i, sentence in enumerate(data):\n",
    "        temp = f\"{i}. \"\n",
    "        for element in sentence:\n",
    "            temp += element[item] + \" \"\n",
    "        extracted_data.append(temp[:-1])\n",
    "    return extracted_data"
   ]
  },
  {
   "cell_type": "code",
   "execution_count": 78,
   "metadata": {},
   "outputs": [],
   "source": [
    "# gram = 2\n",
    "# item = 'pos'\n",
    "# plot_gram_data(grammify(data, gram, item)[:20], language='codemix', gram=gram, item=item)"
   ]
  },
  {
   "cell_type": "code",
   "execution_count": 79,
   "metadata": {},
   "outputs": [],
   "source": [
    "# find_gram(data, query=\"what\", item=\"word\", is_regex=False)"
   ]
  },
  {
   "cell_type": "code",
   "execution_count": 80,
   "metadata": {},
   "outputs": [
    {
     "output_type": "stream",
     "name": "stdout",
     "text": [
      "done reformatting the data\nFound 178 matches.\n"
     ]
    },
    {
     "output_type": "execute_result",
     "data": {
      "text/plain": [
       "he insti I feel bad for you dogs come on open your eyes you can do much better than a random slut who takes advantage of your tharkiness Rise people Rise',\n",
       " '110. Such men deserve the kind of women they get',\n",
       " '111. Back in the in my 2nd yr 1st sem we put a spoof ad in posing as a modeling agency and provided a mobile number and email address Got emails phone numbers sizzling portfolio photos etc from wannabe models and hotties all over Bombay And everyone always wondered how I was never single',\n",
       " '112. To all those calling this fake this was a true story which happened in Yes we had cellphones and yes email was popular There was no high speed internet except for a few labs You guys are sounding like a bunch of unimaginative slackers and lazy wannabes Our reality was so far from yours that we imagine how you guys live on campus any more In fact I truly believe that all you kids do these days is watch porn stalk chicks on FB and jerk off alone Ed',\n",
       " '113. My best moments at IITB were while peeing standing at the skydeck on 6th floor of H14 aiming towards some poor chap sleeping on the 4th floor Skydeck during summer nights',\n",
       " '114. Best Moment at Seriously As was mentioned in a few posts quality of confessions from newbies stands apart from the rest Stand in the center while we all aim at you',\n",
       " '115. Hey years ago I was on campus was a super senior even back then so I knew a lot of campusites maybe we even met Ed',\n",
       " '116. Whoever posted this have you heard of the saying BHMB Jerry',\n",
       " '117. Language barriers Any species of the above mentioned group who can speak hindi passably well will have a very diverse friend iitb',\n",
       " '118. Birds of a feather flock together',\n",
       " '119. Reply to I am one of the girls from Sophia in this pic very pleasantly surprised to find it here we had a good time of us got superdrunk and we had a good time at IIT I remember there was this bunch of stoners making joints and lying flat on the dance floor The guy waving anyone has any idea where he is now',\n",
       " '120. from IITB and in the closet because nobody in India can really understand what we go through in society if we come out The plus point is there are so many guys to fantasize about I really like the unkempt unshaven look but I wish some of the guys would take a bath and keep themselves clean I casually put my arm around my friends and they even suspect a thing',\n",
       " '121. I am a sophie from Delhi My dad gives me enough so I waste it all around and discover whatever possibly I can with that I recently tried a good quality escort service twice and had a good time so much better than wasting time taking girls out for expensive dinners and then going for romantic walks and then waiting for the right moment to make a move which you know will be reciprocated or not And even then frustrating when they cockblock you from getting past 1st or 2nd base In the end you waste many days of your time and many thousands if Rs of your money chasing pussy and never getting any So take my advice visit a good escort and have a good time you know what getting and you have to waste time and money in expensive dinners or flowers The action really good quality action is guaranteed The moral of the story is this THE DIFFERENCE BETWEEN SEX FOR MONEY AND SEX FOR FREE IS THAT SEX FOR MONEY IS ALWAYS CHEAPER',\n",
       " '122. batch H4 One of my wingies had a hot girlfriend from IDC I was very jealous and used to envy this guy a lot They broke up sometime later And I was the one who created rift between them Tough luck if your love last we enjoyed listening through the door every Sunday afternoon',\n",
       " '123. A chick complimented me saying I look like a pornstar Does that mean she watches a lot of porn or that I have a big',\n",
       " '124. koi naa u can still pursue fine arts just dont let go of whatever you learned in IIT',\n",
       " '125. I was thinking of joining the admins at IIT Confessions and actually helping out Then I realized who am I kidding so much more fun laying back and reading someone hard work',\n",
       " '126. Got placed in Schlum but had backlogs to clear Dad struck a deal with Prof Only had to come back end of next sem take mock tests Cleared both courses rocks',\n",
       " '127. Hi admin now you have done enough of shit now do something for the guys still suffering at IITB do arrange socials with Sophia and other colleges then you will get news of things worthy of confessing',\n",
       " '128. From one admin to another sometimes even we feel we are not worthy of knowing Eddie our super senior Jerry',\n",
       " '129. Well the reason we have so much stuff worth confessing about is because we actually went out and did stuff instead of sitting on Facebook we even have the Internet Go ahead try arranging a social you will automatically interact with real girls instead of the pornstars probably more used to Ed',\n",
       " '130. Seriously this is the highlight of your life',\n",
       " '131. of he tricks I have used several times successfully in order to get an II instead of FR or XX especially when bunking an endsem is to buy ayurvedic Jivodaya Netraprabha eyedrops bunk the endsem halfway thru go to office when you know the lab sidey or the TA is invigilating put drop of Netraprabha in each eye and enter the office you need to do this real quick By this time your eyes will be super red watering and dark black tears will be running down your face this is when you lean on his desk and pathetically tell the prof you have acute contagious viral conjunctivitis and you are very sorry that you attend the endsem By this time your eyes will be blood red burning and tears will be streaming onto the desk he will jump back in fear of contamination and scream at you to get the fuck out of his office Of course you need to do all this in less than seconds because when the eye drops have finished their initial burning effect and your eyes now feel cool and heavenly peaceful careful the fucking drops are addictive and the redness goes away I have conned profs times with this tactic successfully getting II instead of XX and getting an entire to mug at leisure',\n",
       " '132. M2K back in the used to organize with Sophia college Essentially we would arrange mega booze weed etc hire a bus and send it to Sophia they would fill it with all sorts of girls bus comes back to party happens in the party hall on top on the mess hall Everyone would be drunk and wasted and boys girls all had fun Then in some moron and created a public nuisance and all socials got banned No more Sophia socials after that Here is a photo of the last social held at H9 terrace on 4 Feb I am of the people in it',\n",
       " '133. fill it with all sorts of WTF',\n",
       " '134. An open invitation to guess which of these is me daaru and pizza will flow without stopping when I m next on campus for a few hours at least Ed PS I have never mentioned whether I was a girl or a guy so happy guessing',\n",
       " '135. I never studied in the IIT system When I was selected as faculty at IITB I was really tense to teach what I thought were super brilliant IITians After a few months months of joining I realized that many of my senior are useless old farts who have worse teaching skill than me This feeling boosted my confidence and now having a great time here doing quite good',\n",
       " '136. I lived in IITB for years of my life my school was in IITB I learned swimming there learned how beautiful things could get saw how the world famous college is from the inside living there as a family member by not giving JEE at all all my first things started here my 1st love 1st jump in the swimming pool 1st time saw leopard in IITB when small 1st dance show 1st cycle IITB student gifted me I used to bug him all the time to teach me I attended Mood Indigo since I was in 4th grade till I turned without fail It was like a ritual to attend whether friends with you or not and being a family member entry was very easy if not phone call used to solve the problem After moving out of this place I realized I was living in heaven the outside world is so sick so crowded so many people around horns yelling at each other etc inside IITB inside the only noise was of the calm campus and the breezy trees I Love IITB like anything and I miss it to the core MUAAhh to IITB',\n",
       " '137. I am the same person who wrote From now on I am planning to mention my selection of confessions in my resume I have anything to write and next sem I would be sitting for placements By the way was also from me and I was planning to hit that 4thie bitch hard Behanchod 4thie hoke freshie type chutiyap karta hai',\n",
       " '138. I am not an IITian but this is for a guy in IITB Mech an overgrown pompous inflated braggart stop flaunting that an IITian Some of you deserve respect but not guys like you who respect girls and treat them as objects I have said all this on your face too so it be that hard for you to guess who this is Just a last reminder start respecting girls before its too late They toys for you to mess around With love your Lucknow schoolmate I wish I never had a person like you in my life and I am ashamed that I called you a friend in the past',\n",
       " '139. I am a campusite This happened years ago I used to play tennis a lot on the old tennis courts as a kid IIT dude used to park his brand new bike and play tennis I always used to bug this guy to let me have a of his bike fine day he did and I totally crashed it nearby He must have been a total idiot because I was only like years old at the time',\n",
       " '140. At the peak of my performance I had backlogs record lowest SPI of and I never drank daaru never smoked weed or ganja never smoked normal ciggies even never ate never drank coffee or tea Managed to escape in the end I gamed the system each every time I passed a quiz or an exam Do I regret it No Why Because there is a place in the world for people like me',\n",
       " '141. I fucked up midsems by sending confessions to this page of my confessions made it During endsems I used this page widely Only lukhha during endsems was to entertain myself surfing this page after each chapter This page paced my rate of study and refreshed my mood as well A big thumbs up to this page and to the admins',\n",
       " '142. I am male G1 and G2 are females Though G1 and G2 are good friends with me like to mix with me and G2 like G1 mixing with me All the are kinda committed in their own life So F is sort of out of question What should I do',\n",
       " '143. M2K There was a very nbdu PhD dude in my lab and he was really bad in English He asked me to proofread a paper he wrote I spent weeks sitting on it doing nothing at the last minute I told him it needs a full rewrite as the language is very bad and made up a fart story saying how hard I have been working on his paper since weeks etc etc In the end I rewrote it in hours and handed it over his prof was so impressed he asked how and the nbdu told him he took my help the prof insisted that my name be written as a And how a gets a paper published with a highly reputed prof in an international journal',\n",
       " '144. I was in the same class same lab as this dude I have a copy of this paper This sort of thing was de rigeur while we were on campus I gather none of this happens anymore Ed',\n",
       " '145. In my 4th year I had to do hrs community service for DAC I got in yr another story so I conned a cool prof to let me do chamchagiri for him in his lab and he would give me a certi saying I did the community service under his supervision',\n",
       " '146. I am a IITB guy who has got placed in completely tech profile coding job God would only tell what those idiots thought at the time of hiring me I even write a Hello program in any language in the first attempt',\n",
       " '147. During my final year in EP all the nbdu nerds in our dept started chilling out For my birthday we were supposed to have a small treat so I gave the money to this dept topper and told him I will meet you guys later So as it turned out that these guys went and had the treat without me and then simply put the blame on poor EP nbdu topper when all he was famous for was laughing all the time apart from the fact that he was the most intelligent guy of our batch',\n",
       " '148. I was an exchange student at IITB it was an amazing experience India has so much to give many things to see And everyday there is something new to discover But I was really surprised to see that boys and girls either mix nor understand each other I think girls are just entertainment or distraction We can be more friends with them than with other guys they are like us Stop objectifying and criticizing them There are only few girls in IIT You should take care of them and learn to know them better Love IITB',\n",
       " '149. On behalf of an member during my recent stay at the IITB guest house I notify reception about cockroaches in my room Staff kindly gives me broom scoop to deal with it Deposited both dead at front desk Gives you an idea of where the institute is going',\n",
       " '150. In my sem during PH209 I bunked several classes and when I opened the textbook to mug I realized there are a few greek letters that I know hence I decided to mug the entire greek alphabet So I learned all the letters and how to write pronounce them Then I got really ambitious I started writing down class notes substituting greek letters instead of the equivalent english letters in all classes By the end of the semester I was able to write in fluently as fast as the prof would blabber By the time endsems came I opened my notes to mug and realized that while I could transliterate very fast I develop the reverse skill to read So a day before the endsems there I was all my notes were in greek and I read them I flunked out of subjects that semester',\n",
       " '151. These confessions about girls booze and movies may seem like fun As an alumnus I have been through and came out of these traps My advice to juniors is to not fall into these traps because when you grow up then realize the returns you got justify the time investment',\n",
       " '152. In my yr I was working in of the dept labs afternoon after a very bad lunch and I had a huge urge to take a dump Went to the department bathroom the bog next to me was occupied and I knew my tummy was going to get noisy so I held it in for a good minutes It seemed like the other guy was doing the same because neither of us moved from the toilet nor did we plop plop anything into the pot I was about to burst when the guy just said Fuck benchod I have to It sounded like he had some mean diarrhea Just a few minutes before that I recognized the guy by his shoes it was my TA I think I will be able to look at him without remembering our little encounter in the bathroom',\n",
       " '153. To all of you chootiyas doing M Phil in HSS your degrees worth anything You should either drop out of college and become managers at most or switch to a true degree Posted by a DD EE FF guy',\n",
       " '154. of our wingies was a stud and somehow managed to patao some new bandi every few months He used to bring her to his room in and they would close the door and play loud music Without their knowledge the rest of us would try to take turns peeking in from above the door the mosqui net Bastard later boarded up that peeping spot',\n",
       " '155. Actually this was of our illustrious aero seniors before you guys joined the wing',\n",
       " '156. We used to go to the top floors in MB and spit down the middle of the pool to see who would make it all the way down and once we blew up a condom and sent it down too',\n",
       " '157. throughout my years at IITB done something very proud of I used to turn off the lights in the bogs when I saw people in the cubicles always say something like LIGHTS OUT or GAME OVER before I would hit the switch Sorry to all who were unfortunate enough to be in those cubicles',\n",
       " '158. Maybe just trying to be friend Could be of great help would do your assignments for free',\n",
       " '159. of tv shows and movies',\n",
       " '160. of my friends in IITB is from my hometown He lives in a UG hostel and uses my room in Tansa like a brothel he says abe thodi der room chahiye kuch kaam hai tu kab nahi hoga room pe bata de tab aajaunga mera roomie maanta hi nahi Being a friend I used to agree he had a spare key and knew my lab schedule After some days I found out he brings randis from outside and fucks them in my room I was fucking disgusted I had to throw the mattress which I had been sleeping on',\n",
       " '161. a PhD scholar I have always wanted to know what the inside of the ladies toilet looked like So after hours we use the ladies toilet in the department Since the past years I have often piddled in this forbidden territory of my department Before I graduate I have this burning desire to try it once during the daytime',\n",
       " '162. See the level of people doing phd i dnt know wat shit they will teach to students',\n",
       " '163. My gf just got her braces taken off and now she can get back to doing more interesting stuff to me on Sundays when we meet been more than a year am I way too excited about this',\n",
       " '164. Before coming to Bombay I was a virgin Now after semesters I have a big bag of lingerie in my closet and done more than a few very questionable things I am proud as I learned some tricks along the way and had a great time as well I think this is a part of growing up however our society is fucked up to an extent where we question our virtue I hope you all of my generation will bring up our kids to be free thinkers who enjoy hedonism rather than feel guilty because of social programming',\n",
       " '165. because it reduces the probability of getting a girl which in turn reduces the probability of our precious money being wasted on these girl which should be invested in daru',\n",
       " '166. y d hell u look fr our chappals u showoff please stop confessing u r making the page boring',\n",
       " '167. side effect of freebees eating my',\n",
       " '168. How many confessions posted here are real Why do I get the sense that many may simply be fantasies of some folks and a few others may simply be teasers to provoke comments No',\n",
       " '169. Just want to get this off my chest I expressed my feelings to anyone I was coordinator of MI Right from the beginning i worked with true enthusiasm dedication and passion During MI OC elections I was considered a very strong candidate for CG as people appreciated my work a lot Somehow I selected as a CG member I literally cried thebwhole night when results were declared I just want to ask question is this what gets for true hard work and dedication I have any regrets regarding working hard for MI The memories I have gathered will be cherished for life I know some people in thebcurrent team who give a fuck about about MI Now they have become CG members and their job to make MI happen If a person is sentimental about something definitely be contributing a lot more towards the goodwill of MI Quality of MI is degrading just because of these people who work just for the sake of PR Anyways always be there whenever MI team needs me Best of luck to new team MOOD INDIGO Take to a higher level this time',\n",
       " '170. I can also relate to this as I too was always a curious being I am sure you are not alone with this feeling Hypothetically in every college similar things happen every year And everyone of us would like to say Best of Luck to the new team About your experience as organiser I am sure it will always be a memory to cherish And I am very sure being a CG is not the only thing you can dream of in life Dream Bigger Amen',\n",
       " '171. I got a in HS101 becuase of a khadoos so I swore to take someday And so the next when I was a sophie I attended the HS101 found out the last roll number in Meta added more to it created a fake name and proceeded to write the endsem full of hardcore literary porn Instead of graphs I drew several hardcore or various and I was very proud of my newfound at Unfortunately the give me a grade this if he did then presumably XXX would be justified',\n",
       " '172. cheen ke haasil kiya hai yeh aaj So proud of u',\n",
       " '173. Printing of begins with oye balle',\n",
       " '174. Oye balle balle On the of of',\n",
       " '175. ka of the jointly ko dena chahiye',\n",
       " '176. of telling Yes we will break the phodenge',\n",
       " '177. ne toss jita Best of luck team']"
      ]
     },
     "metadata": {},
     "execution_count": 80
    }
   ],
   "source": [
    "get_extracted_data(find_gram(data, query=\"(of)\", item=\"word\", is_regex=True), \"word\")"
   ]
  }
 ]
}